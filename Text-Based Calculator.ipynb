{
 "cells": [
  {
   "cell_type": "markdown",
   "id": "48b2c621-7560-4319-a018-a28813078e09",
   "metadata": {},
   "source": [
    "# Problem: Text-based Calculator\n",
    "\n",
    "Create a basic text-based calculator that allows the user to perform a single arithmetic operation on two numbers. The calculator should support addition and subtraction.\n",
    "\n",
    "Here are the requirements:\n",
    "\n",
    "Prompt the user to enter the first number.\n",
    "Prompt the user to enter the second number.\n",
    "Ask the user whether they want to perform addition or subtraction by entering \"+\" or \"-\".\n",
    "Based on the user's choice, calculate and display the result.\n",
    "\n",
    "\n",
    "# Solution:"
   ]
  },
  {
   "cell_type": "code",
   "execution_count": null,
   "id": "bde211b6-bd08-4eaf-9e60-c0e95f8c83bd",
   "metadata": {},
   "outputs": [],
   "source": [
    "first_number = int( input( 'Input the first number (A):'))\n",
    "second_number = int( input( 'Input the second number (B):'))\n",
    "answer = (input( 'Enter + to find A+B or Enter - to find A-B:'))\n",
    "\n",
    "s = str ('+')\n",
    "d = str ('-')\n",
    "\n",
    "X = int (first_number + second_number)\n",
    "Y = int (first_number - second_number)\n",
    "\n",
    "if answer == s:\n",
    "    print (X)\n",
    "\n",
    "if answer == d:\n",
    "    print (Y)\n",
    "\n",
    "if answer != s and answer != d :\n",
    "    print (str ('Invalid operator'))"
   ]
  }
 ],
 "metadata": {
  "kernelspec": {
   "display_name": "Python 3 (ipykernel)",
   "language": "python",
   "name": "python3"
  },
  "language_info": {
   "codemirror_mode": {
    "name": "ipython",
    "version": 3
   },
   "file_extension": ".py",
   "mimetype": "text/x-python",
   "name": "python",
   "nbconvert_exporter": "python",
   "pygments_lexer": "ipython3",
   "version": "3.11.5"
  }
 },
 "nbformat": 4,
 "nbformat_minor": 5
}
